{
 "cells": [
  {
   "cell_type": "code",
   "execution_count": 11,
   "id": "f3bc470c-dedc-4094-afc9-f3dbc9102245",
   "metadata": {},
   "outputs": [],
   "source": [
    "#!wget https://raw.githubusercontent.com/alexeygrigorev/minsearch/refs/heads/main/minsearch/minsearch.py"
   ]
  },
  {
   "cell_type": "code",
   "execution_count": 12,
   "id": "d6434ea2-0213-4301-9268-4b84d2b08268",
   "metadata": {},
   "outputs": [],
   "source": [
    "#!wget https://raw.githubusercontent.com/DataTalksClub/llm-zoomcamp/refs/heads/main/01-intro/documents.json"
   ]
  },
  {
   "cell_type": "code",
   "execution_count": 32,
   "id": "b01e3d1c-4e55-44d2-af30-2bd33652daca",
   "metadata": {},
   "outputs": [],
   "source": [
    "import minsearch\n",
    "import json\n",
    "from openai import OpenAI"
   ]
  },
  {
   "cell_type": "code",
   "execution_count": 2,
   "id": "65a1bd3b-0e1b-40c3-ba5a-4b6456696557",
   "metadata": {},
   "outputs": [],
   "source": [
    "with open('documents.json', 'rt') as f_in:\n",
    "    docs_raw = json.load(f_in)"
   ]
  },
  {
   "cell_type": "code",
   "execution_count": 3,
   "id": "f5cfc816-858e-4625-aec7-ff6cdfe5f36f",
   "metadata": {},
   "outputs": [],
   "source": [
    "documents = []\n",
    "\n",
    "for course_dict in docs_raw:\n",
    "    for doc in course_dict['documents']:\n",
    "        doc['course'] = course_dict['course']\n",
    "        documents.append(doc)"
   ]
  },
  {
   "cell_type": "code",
   "execution_count": 4,
   "id": "7f07126c-1068-49fc-97c2-bc1f47ba7708",
   "metadata": {},
   "outputs": [
    {
     "data": {
      "text/plain": [
       "{'text': \"The purpose of this document is to capture frequently asked technical questions\\nThe exact day and hour of the course will be 15th Jan 2024 at 17h00. The course will start with the first  “Office Hours'' live.1\\nSubscribe to course public Google Calendar (it works from Desktop only).\\nRegister before the course starts using this link.\\nJoin the course Telegram channel with announcements.\\nDon’t forget to register in DataTalks.Club's Slack and join the channel.\",\n",
       " 'section': 'General course-related questions',\n",
       " 'question': 'Course - When will the course start?',\n",
       " 'course': 'data-engineering-zoomcamp'}"
      ]
     },
     "execution_count": 4,
     "metadata": {},
     "output_type": "execute_result"
    }
   ],
   "source": [
    "documents[0]"
   ]
  },
  {
   "cell_type": "code",
   "execution_count": 5,
   "id": "29b6656e-4251-4b87-9f02-87f8b86a005b",
   "metadata": {},
   "outputs": [],
   "source": [
    "index = minsearch.Index(\n",
    "    text_fields=[\"question\", \"text\", \"section\"],\n",
    "    keyword_fields=[\"course\"]\n",
    ")"
   ]
  },
  {
   "cell_type": "code",
   "execution_count": 6,
   "id": "33f1cc01-8f3f-4e5a-9b55-16264bb32185",
   "metadata": {},
   "outputs": [
    {
     "data": {
      "text/plain": [
       "<minsearch.Index at 0x79932c8bec00>"
      ]
     },
     "execution_count": 6,
     "metadata": {},
     "output_type": "execute_result"
    }
   ],
   "source": [
    "index.fit(documents)"
   ]
  },
  {
   "cell_type": "code",
   "execution_count": 7,
   "id": "24cfd91a-7bde-4829-a26c-bc83f0c3f1a9",
   "metadata": {},
   "outputs": [],
   "source": [
    "q = 'the course has already started, can I still enroll?'"
   ]
  },
  {
   "cell_type": "code",
   "execution_count": 33,
   "id": "2b0e7519-3797-432e-b0f1-2a89d562c158",
   "metadata": {},
   "outputs": [],
   "source": [
    "def search(query):\n",
    "    boost = {'question':2.5, 'section':0.5}\n",
    "\n",
    "    results = index.search(\n",
    "        query=query, \n",
    "        filter_dict={'course': 'data-engineering-zoomcamp'},\n",
    "        boost_dict=boost, \n",
    "        num_results=10\n",
    "    )\n",
    "    return results"
   ]
  },
  {
   "cell_type": "code",
   "execution_count": 29,
   "id": "365593a2-77f5-4db6-bf1c-4adde11f397c",
   "metadata": {},
   "outputs": [],
   "source": [
    "def build_prompt(query, search_results):\n",
    "    prompt_template = \"\"\"\n",
    "You're a course teaching assistant. Answer the QUESTION based on the CONTEXT from the FAQ database.\n",
    "Use only the facts from the CONTEXT when answering the QUESTION.\n",
    "\n",
    "QUESTION: {question}\n",
    "\n",
    "CONTEXT: \n",
    "{context}\n",
    "    \"\"\".strip()\n",
    "\n",
    "    context = \"\"\n",
    "        \n",
    "    for doc in search_results:\n",
    "        context = context + f\"section: {doc['section']}\\nquestion: {doc['question']}\\nanswer: {doc['text']}\\n\\n\"\n",
    "        \n",
    "    prompt = prompt_template.format(question=query, context=context).strip()\n",
    "    return prompt"
   ]
  },
  {
   "cell_type": "code",
   "execution_count": 26,
   "id": "51344b48-2883-4aa9-b155-823d63b3ef56",
   "metadata": {},
   "outputs": [],
   "source": [
    "def llm(prompt):\n",
    "    client = OpenAI()\n",
    "    response = client.chat.completions.create(\n",
    "        model='gpt-4o',\n",
    "        messages=[\n",
    "            {\"role\":\"user\", \"content\": prompt}\n",
    "        ]\n",
    "    )\n",
    "    return response.choices[0].message.content"
   ]
  },
  {
   "cell_type": "code",
   "execution_count": 34,
   "id": "df0d0004-53fd-4a1b-ba6d-7f0fac467845",
   "metadata": {},
   "outputs": [],
   "source": [
    "def rag(query):\n",
    "    search_results = search(query)\n",
    "    prompt = build_prompt(query, search_results)\n",
    "    answer = llm(prompt)\n",
    "    return answer"
   ]
  },
  {
   "cell_type": "code",
   "execution_count": 36,
   "id": "99540650-1a25-4672-8513-31d60f96910e",
   "metadata": {},
   "outputs": [
    {
     "data": {
      "text/plain": [
       "\"To run Kafka, especially when dealing with a Python setup, it is recommended to create a virtual environment and manage dependencies within that environment. Here's how you can do it:\\n\\n1. **Create a Virtual Environment:**\\n   - Run this command to create a virtual environment:\\n     ```\\n     python -m venv env\\n     ```\\n   - Activate the environment:\\n     - On MacOS or Linux:\\n       ```\\n       source env/bin/activate\\n       ```\\n     - On Windows:\\n       ```\\n       env\\\\Scripts\\\\activate\\n       ```\\n\\n2. **Install Required Packages:**\\n   - Install the necessary packages as specified in `requirements.txt`:\\n     ```\\n     pip install -r ../requirements.txt\\n     ```\\n\\n3. **Ensure Docker is Running:**\\n   - It's important that your Kafka broker Docker container is running.\\n   - Validate by running:\\n     ```\\n     docker ps\\n     ```\\n   - If it's not running, navigate to your docker compose yaml file folder and start all instances with:\\n     ```\\n     docker-compose up -d\\n     ```\\n\\n4. **Deactivate the Virtual Environment (when done):**\\n   - Simply run:\\n     ```\\n     deactivate\\n     ```\\n\\nThese steps will help ensure that your Python Kafka setup is correctly configured for running streaming tasks.\""
      ]
     },
     "execution_count": 36,
     "metadata": {},
     "output_type": "execute_result"
    }
   ],
   "source": [
    "query = 'how do i run kafka?'\n",
    "answer = rag(query)"
   ]
  },
  {
   "cell_type": "code",
   "execution_count": 37,
   "id": "23e89406-cbb8-4deb-8363-8ae67c447926",
   "metadata": {},
   "outputs": [
    {
     "data": {
      "text/plain": [
       "\"To run Kafka, especially when dealing with a Python setup, it is recommended to create a virtual environment and manage dependencies within that environment. Here's how you can do it:\\n\\n1. **Create a Virtual Environment:**\\n   - Run this command to create a virtual environment:\\n     ```\\n     python -m venv env\\n     ```\\n   - Activate the environment:\\n     - On MacOS or Linux:\\n       ```\\n       source env/bin/activate\\n       ```\\n     - On Windows:\\n       ```\\n       env\\\\Scripts\\\\activate\\n       ```\\n\\n2. **Install Required Packages:**\\n   - Install the necessary packages as specified in `requirements.txt`:\\n     ```\\n     pip install -r ../requirements.txt\\n     ```\\n\\n3. **Ensure Docker is Running:**\\n   - It's important that your Kafka broker Docker container is running.\\n   - Validate by running:\\n     ```\\n     docker ps\\n     ```\\n   - If it's not running, navigate to your docker compose yaml file folder and start all instances with:\\n     ```\\n     docker-compose up -d\\n     ```\\n\\n4. **Deactivate the Virtual Environment (when done):**\\n   - Simply run:\\n     ```\\n     deactivate\\n     ```\\n\\nThese steps will help ensure that your Python Kafka setup is correctly configured for running streaming tasks.\""
      ]
     },
     "execution_count": 37,
     "metadata": {},
     "output_type": "execute_result"
    }
   ],
   "source": [
    "answer"
   ]
  }
 ],
 "metadata": {
  "kernelspec": {
   "display_name": "Python 3 (ipykernel)",
   "language": "python",
   "name": "python3"
  },
  "language_info": {
   "codemirror_mode": {
    "name": "ipython",
    "version": 3
   },
   "file_extension": ".py",
   "mimetype": "text/x-python",
   "name": "python",
   "nbconvert_exporter": "python",
   "pygments_lexer": "ipython3",
   "version": "3.12.1"
  }
 },
 "nbformat": 4,
 "nbformat_minor": 5
}
