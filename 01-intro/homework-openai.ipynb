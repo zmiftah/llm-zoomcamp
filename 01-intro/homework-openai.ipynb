{
 "cells": [
  {
   "cell_type": "code",
   "execution_count": 1,
   "id": "5ceb6393-9b8e-42b9-9e26-b3b40470814f",
   "metadata": {},
   "outputs": [],
   "source": [
    "from openai import OpenAI\n",
    "import os"
   ]
  },
  {
   "cell_type": "code",
   "execution_count": 3,
   "id": "03b00a71-2b44-43f1-8de6-f529302186f5",
   "metadata": {},
   "outputs": [],
   "source": [
    "client = OpenAI()"
   ]
  },
  {
   "cell_type": "code",
   "execution_count": 4,
   "id": "3f55bf0e-6ce1-49d8-b558-ee5a867d0426",
   "metadata": {},
   "outputs": [],
   "source": [
    "response = client.chat.completions.create(\n",
    "    model='gpt-4o',\n",
    "    messages=[\n",
    "        {\"role\":\"user\", \"content\":\"what is llm zoomcamp?\"}\n",
    "    ]\n",
    ")"
   ]
  },
  {
   "cell_type": "code",
   "execution_count": 8,
   "id": "d166d91a-647d-4988-b3f4-fa91c81a09d3",
   "metadata": {},
   "outputs": [
    {
     "data": {
      "text/plain": [
       "'The LLM (Large Language Model) Zoomcamp is likely an educational program focused on teaching participants about large language models, which are a type of artificial intelligence model used in natural language processing (NLP). These models, such as GPT-3, are designed to understand and generate human language, enabling a wide range of applications from chatbots to text analysis.\\n\\nThe \"Zoomcamp\" aspect suggests that this program is conducted online, possibly through the Zoom platform, allowing participants to join remotely. Such camps typically cover topics like the underlying technology of LLMs, their applications, ethical considerations, and practical skills for implementing them in projects.\\n\\nPrograms like this often attract individuals who are interested in AI, data science, and software development, offering lectures, workshops, and hands-on projects to enhance learning. If you need more specific details about a particular LLM Zoomcamp, it would be best to look for information from the organization or institution hosting it.'"
      ]
     },
     "execution_count": 8,
     "metadata": {},
     "output_type": "execute_result"
    }
   ],
   "source": [
    "response.choices[0].message.content"
   ]
  }
 ],
 "metadata": {
  "kernelspec": {
   "display_name": "Python 3 (ipykernel)",
   "language": "python",
   "name": "python3"
  },
  "language_info": {
   "codemirror_mode": {
    "name": "ipython",
    "version": 3
   },
   "file_extension": ".py",
   "mimetype": "text/x-python",
   "name": "python",
   "nbconvert_exporter": "python",
   "pygments_lexer": "ipython3",
   "version": "3.12.1"
  }
 },
 "nbformat": 4,
 "nbformat_minor": 5
}
